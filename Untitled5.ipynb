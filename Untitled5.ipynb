{
 "cells": [
  {
   "cell_type": "markdown",
   "metadata": {},
   "source": [
    "# HM5"
   ]
  },
  {
   "cell_type": "code",
   "execution_count": 7,
   "metadata": {},
   "outputs": [],
   "source": [
    "# importing libraries\n",
    "import networkx as nx\n",
    "import matplotlib.pyplot as plt\n",
    "import random\n",
    "import numpy as np\n",
    "import pandas as pd\n",
    "import queue\n",
    "\n",
    "# creation of a pandas dataframe and the graph with nodes coordinates\n",
    "G = nx.Graph()\n",
    "fileNodes = open(\"C:\\\\Users\\\\asus\\\\Desktop\\\\Algoritmic methods for data science\\\\ADM-HM5\\\\nodesInformations.co\", \"r\"); latitude = 0; longitude = 0; id = 0; matrix = []\n",
    "with fileNodes as fInput:\n",
    "    for row in fInput:\n",
    "        row = row.split()\n",
    "        if row[0] == \"v\":\n",
    "            id = int(row[1])\n",
    "            latitude = int(row[3][:len(row[3])-1]) / 10 ** (len(row[3]) - 3)\n",
    "            longitude = -int(row[2][1:len(row[2])-1]) / 10 ** (len(row[2]) - 5)\n",
    "            matrix.append([id, latitude, longitude])\n",
    "            G.add_node(id, latitude = latitude, longitude = longitude)\n",
    "nodesCoordinates = pd.DataFrame(matrix, columns = [\"Id\", \"Latitude\", \"Longitude\"])\n",
    "fileNodes.close()\n",
    "\n",
    "# creation of a pandas dataframe with metrics distances\n",
    "fileMetricDist = open(\"C:\\\\Users\\\\asus\\\\Desktop\\\\Algoritmic methods for data science\\\\ADM-HM5\\\\distanceMatrixMeters.gr\", \"r\"); matrix = []\n",
    "with fileMetricDist as fInput:\n",
    "    for row in fInput:\n",
    "        row = row.split()\n",
    "        if row[0] == \"a\":\n",
    "            matrix.append([int(row[1]), int(row[2]), int(row[3])])\n",
    "edgesMetrDist = pd.DataFrame(matrix, columns = [\"id_n1\", \"id_n2\", \"metric_dist\"])\n",
    "fileMetricDist.close()\n",
    "\n",
    "# creation of a pandas dataframe with time distances\n",
    "fileTimeDist = open(\"C:\\\\Users\\\\asus\\\\Desktop\\\\Algoritmic methods for data science\\\\ADM-HM5\\\\distanceMatrixSeconds.gr\", \"r\"); latitude = 0; longitude = 0; id = 0; matrix = []\n",
    "with fileTimeDist as fInput:\n",
    "    for row in fInput:\n",
    "        row = row.split()\n",
    "        if row[0] == \"a\":\n",
    "            matrix.append([int(row[1]), int(row[2]), int(row[3])])\n",
    "edgesTimeDist = pd.DataFrame(matrix, columns = [\"id_n1\", \"id_n2\", \"time_dist\"])\n",
    "fileTimeDist.close()"
   ]
  },
  {
   "cell_type": "markdown",
   "metadata": {},
   "source": [
    "### Function1"
   ]
  },
  {
   "cell_type": "code",
   "execution_count": 61,
   "metadata": {},
   "outputs": [],
   "source": [
    "def dijkstraF1(G, s, threshold):\n",
    "    neighbours = np.array([[0, s]]); result = []; edges = np.array(list(G.edges))\n",
    "    for i in G.nodes:\n",
    "        result.append([-1, 100000])\n",
    "    result[s-1] = [s, 0]\n",
    "    result = np.array(result)\n",
    "    while len(neighbours) != 0:\n",
    "        costs = [neighbour[0] for neighbour in neighbours]; cont = 0\n",
    "        if min(costs) > threshold:\n",
    "            return result\n",
    "        for neighbour in neighbours:\n",
    "            if neighbour[0] == min(costs):\n",
    "                node = neighbour[1]\n",
    "                neighbours = np.delete(neighbours, cont, axis = 0)\n",
    "            cont += 1\n",
    "        for edge in edges:\n",
    "            if edge[0] == node and edge[1] != result[node-1][0]:\n",
    "                if result[edge[1]-1][0] != -1:\n",
    "                    if result[edge[1]-1][1] > result[node-1][1] + G.edges[edge[0], edge[1]][\"weight\"]:\n",
    "                        result[edge[1] - 1][0] = node\n",
    "                        result[edge[1] - 1][1] = result[node - 1][1] + G.edges[edge[0], edge[1]][\"weight\"]\n",
    "                else:\n",
    "                    neighbours = np.append(neighbours, [[result[node-1][1] + G.edges[edge[0], edge[1]][\"weight\"], edge[1]]], axis = 0)\n",
    "                    result[edge[1]-1][0] = node\n",
    "                    result[edge[1]-1][1] = result[node-1][1] + G.edges[edge[0], edge[1]][\"weight\"]\n",
    "            if edge[1] == node and edge[0] != result[edge[1]-1][0]:\n",
    "                if result[edge[0]-1][0] != -1:\n",
    "                    if result[edge[0]-1][1] > result[edge[1]-1][1] + G.edges[edge[0], edge[1]][\"weight\"]:\n",
    "                        result[edge[0] - 1][0] = node\n",
    "                        result[edge[0] - 1][1] = result[edge[1] - 1][1] + G.edges[edge[0], edge[1]][\"weight\"]\n",
    "                else:\n",
    "                    neighbours = np.append(neighbours, [[result[edge[1]-1][1] + G.edges[edge[0], edge[1]][\"weight\"], edge[0]]], axis = 0)\n",
    "                    result[edge[0]-1][0] = edge[1]\n",
    "                    result[edge[0]-1][1] = result[edge[1]-1][1] + G.edges[edge[0], edge[1]][\"weight\"]\n",
    "    return result\n",
    "\n",
    "def function1(node, functionDist, threshold):\n",
    "    finalRes = []\n",
    "    if functionDist == \"meters\":\n",
    "        for row in edgesMetrDist.values:\n",
    "            G.add_edge(row[0], row[1], weight = row[2])\n",
    "    elif functionDist == \"time\":\n",
    "        for row in edgesTimeDist.values:\n",
    "            G.add_edge(row[0], row[1], weight = row[2])\n",
    "    elif functionDist == \"network\":\n",
    "        for row in edgesMetrDist.values:\n",
    "            G.add_edge(row[0], row[1], weight = 1)\n",
    "    resultDij = dijkstraF1(G, 1, threshold)\n",
    "    for i in range(len(resultDij)):\n",
    "        if resultDij[i][1] < threshold:\n",
    "            finalRes.append([i+1, resultDij[i][0]])\n",
    "    result = nx.Graph()\n",
    "    for i in range(len(finalRes)):\n",
    "        result.add_node(finalRes[i][0])\n",
    "        if i > 0: result.add_edge(finalRes[i][0], finalRes[i][1])\n",
    "    colors = [\"red\"] + ([\"cyan\"] * (len(result.nodes) - 1)); pos = nx.spring_layout(result)\n",
    "    nx.draw_networkx_nodes(result, pos, node_color = colors)\n",
    "    nx.draw_networkx_edges(result, pos)\n",
    "    nx.draw_networkx_labels(result, pos)"
   ]
  },
  {
   "cell_type": "code",
   "execution_count": 58,
   "metadata": {},
   "outputs": [
    {
     "data": {
      "image/png": "[encoded data removed]",
      "text/plain": [
       "<Figure size 432x288 with 1 Axes>"
      ]
     },
     "metadata": {},
     "output_type": "display_data"
    }
   ],
   "source": [
    "function1(G, 1, \"meters\", 7500)"
   ]
  },
  {
   "cell_type": "markdown",
   "metadata": {},
   "source": [
    "### Function 2"
   ]
  },
  {
   "cell_type": "code",
   "execution_count": 57,
   "metadata": {},
   "outputs": [],
   "source": [
    "def dijkstraF2(G, s, nodes):\n",
    "    neighbours = np.array([[0, s]]); result = []; edges = np.array(list(G.edges))\n",
    "    for i in G.nodes:\n",
    "        result.append([-1, 100000])\n",
    "    result[s-1] = [s, 0]\n",
    "    result = np.array(result)\n",
    "    while len(neighbours) != 0:\n",
    "        costs = [neighbour[0] for neighbour in neighbours]; cont = 0\n",
    "        for el in nodes:\n",
    "            if result[el-1][0] != -1: return el, result\n",
    "        for neighbour in neighbours:\n",
    "            if neighbour[0] == min(costs):\n",
    "                node = neighbour[1]\n",
    "                neighbours = np.delete(neighbours, cont, axis = 0)\n",
    "            cont += 1\n",
    "        for edge in edges:\n",
    "            if edge[0] == node and edge[1] != result[node-1][0]:\n",
    "                if result[edge[1]-1][0] != -1:\n",
    "                    if result[edge[1]-1][1] > result[node-1][1] + G.edges[edge[0], edge[1]][\"weight\"]:\n",
    "                        result[edge[1] - 1][0] = node\n",
    "                        result[edge[1] - 1][1] = result[node - 1][1] + G.edges[edge[0], edge[1]][\"weight\"]\n",
    "                else:\n",
    "                    neighbours = np.append(neighbours, [[result[node-1][1] + G.edges[edge[0], edge[1]][\"weight\"], edge[1]]], axis = 0)\n",
    "                    result[edge[1]-1][0] = node\n",
    "                    result[edge[1]-1][1] = result[node-1][1] + G.edges[edge[0], edge[1]][\"weight\"]\n",
    "            if edge[1] == node and edge[0] != result[edge[1]-1][0]:\n",
    "                if result[edge[0]-1][0] != -1:\n",
    "                    if result[edge[0]-1][1] > result[edge[1]-1][1] + G.edges[edge[0], edge[1]][\"weight\"]:\n",
    "                        result[edge[0] - 1][0] = node\n",
    "                        result[edge[0] - 1][1] = result[edge[1] - 1][1] + G.edges[edge[0], edge[1]][\"weight\"]\n",
    "                else:\n",
    "                    neighbours = np.append(neighbours, [[result[edge[1]-1][1] + G.edges[edge[0], edge[1]][\"weight\"], edge[0]]], axis = 0)\n",
    "                    result[edge[0]-1][0] = edge[1]\n",
    "                    result[edge[0]-1][1] = result[edge[1]-1][1] + G.edges[edge[0], edge[1]][\"weight\"]\n",
    "\n",
    "def function2(nodes, functionDist):\n",
    "    finalRes = set(); source = list(nodes)[0]; nodes.remove(source)\n",
    "    if functionDist == \"meters\":\n",
    "        for row in edgesMetrDist.values:\n",
    "            G.add_edge(row[0], row[1], weight = row[2])\n",
    "    elif functionDist == \"time\":\n",
    "        for row in edgesTimeDist.values:\n",
    "            G.add_edge(row[0], row[1], weight = row[2])\n",
    "    elif functionDist == \"network\":\n",
    "        for row in edgesMetrDist.values:\n",
    "            G.add_edge(row[0], row[1], weight = 1)\n",
    "    while len(nodes) != 0:\n",
    "        node, resultDij = dijkstraF2(G, source, nodes)\n",
    "        pred = node; nodes.remove(node); partRes = set()\n",
    "        while resultDij[pred-1][0] != source: \n",
    "            edge = (resultDij[pred-1][0], pred); partRes.add(edge)\n",
    "            pred = resultDij[pred-1][0]\n",
    "            if resultDij[pred-1][0] == source: \n",
    "                partRes.add((pred, source))\n",
    "        source = node; finalRes = finalRes.union(partRes)\n",
    "    result = nx.Graph()\n",
    "    for edge in finalRes:\n",
    "        result.add_nodes_from(edge); result.add_edge(edge[0], edge[1])\n",
    "    pos = nx.spring_layout(result)\n",
    "    nx.draw_networkx_nodes(result, pos, node_color = \"cyan\")\n",
    "    nx.draw_networkx_edges(result, pos)\n",
    "    nx.draw_networkx_labels(result, pos)"
   ]
  },
  {
   "cell_type": "code",
   "execution_count": 58,
   "metadata": {},
   "outputs": [
    {
     "data": {
      "image/png": "[encoded data removed]",
      "text/plain": [
       "<Figure size 432x288 with 1 Axes>"
      ]
     },
     "metadata": {},
     "output_type": "display_data"
    }
   ],
   "source": [
    "function2([1, 1767, 1808], \"meters\")"
   ]
  }
 ],
 "metadata": {
  "kernelspec": {
   "display_name": "Python 3",
   "language": "python",
   "name": "python3"
  },
  "language_info": {
   "codemirror_mode": {
    "name": "ipython",
    "version": 3
   },
   "file_extension": ".py",
   "mimetype": "text/x-python",
   "name": "python",
   "nbconvert_exporter": "python",
   "pygments_lexer": "ipython3",
   "version": "3.7.3"
  }
 },
 "nbformat": 4,
 "nbformat_minor": 2
}
